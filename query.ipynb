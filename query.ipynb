{
 "cells": [
  {
   "cell_type": "code",
   "execution_count": 1,
   "metadata": {},
   "outputs": [],
   "source": [
    "from openai import OpenAI\n",
    "from dotenv import load_dotenv\n",
    "import os"
   ]
  },
  {
   "cell_type": "code",
   "execution_count": null,
   "metadata": {},
   "outputs": [],
   "source": [
    "from openai import OpenAI\n",
    "from dotenv import load_dotenv\n",
    "import os\n",
    "\n",
    "def query_deepseek(user_input: str):\n",
    "    # Load environment variables from .env\n",
    "    load_dotenv()\n",
    "\n",
    "    # Get API key securely\n",
    "    api_key = os.getenv(\"DEEPSEEK_API_KEY\")\n",
    "\n",
    "    # Initialize DeepSeek API client\n",
    "    client = OpenAI(\n",
    "        api_key=api_key,\n",
    "        base_url=\"https://api.deepseek.com\"\n",
    "    )\n",
    "\n",
    "    # Read the instruction from readme.md\n",
    "    readme_path = 'TLS201/readme.md'\n",
    "    with open(readme_path, 'r', encoding='utf-8') as file:\n",
    "        instructions = file.read()\n",
    "\n",
    "    # Compose prompt\n",
    "    prompt = f\"\"\"\n",
    "            You are a helpful assistant and expert Python developer with strong SQL knowledge.\n",
    "            Follow these steps:\n",
    "\n",
    "            ### Table Instructions (from readme.md):\n",
    "            {instructions}\n",
    "\n",
    "            ### User Request:\n",
    "            {user_input}\n",
    "            \"\"\"\n",
    "\n",
    "    # Make API call\n",
    "    response = client.chat.completions.create(\n",
    "        model=\"deepseek-chat\",\n",
    "        messages=[\n",
    "            {\"role\": \"system\", \"content\": \"You are a helpful assistant.\"},\n",
    "            {\"role\": \"user\", \"content\": prompt},\n",
    "        ],\n",
    "        #max_tokens=512,\n",
    "        temperature=0.3,\n",
    "        stream=False\n",
    "    )\n",
    "\n",
    "    # Return generated response and prompt\n",
    "    return response.choices[0].message.content, prompt"
   ]
  }
 ],
 "metadata": {
  "kernelspec": {
   "display_name": ".aibook_venv",
   "language": "python",
   "name": "python3"
  },
  "language_info": {
   "codemirror_mode": {
    "name": "ipython",
    "version": 3
   },
   "file_extension": ".py",
   "mimetype": "text/x-python",
   "name": "python",
   "nbconvert_exporter": "python",
   "pygments_lexer": "ipython3",
   "version": "3.9.6"
  }
 },
 "nbformat": 4,
 "nbformat_minor": 2
}
