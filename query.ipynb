{
 "cells": [
  {
   "cell_type": "code",
   "execution_count": 12,
   "metadata": {},
   "outputs": [],
   "source": [
    "from openai import OpenAI\n",
    "from dotenv import load_dotenv\n",
    "import os\n",
    "from IPython.display import display, Markdown\n",
    "\n",
    "def query_deepseek(user_input: str):\n",
    "    # Load environment variables from .env\n",
    "    load_dotenv()\n",
    "\n",
    "    # Get API key securely\n",
    "    api_key = os.getenv(\"DEEPSEEK_API_KEY\")\n",
    "\n",
    "    # Initialize DeepSeek API client\n",
    "    client = OpenAI(\n",
    "        api_key=api_key,\n",
    "        base_url=\"https://api.deepseek.com\"\n",
    "    )\n",
    "\n",
    "    # 读取 guide.md 和 minutes.md\n",
    "    with open('guide.md', 'r', encoding='utf-8') as f:\n",
    "        guide_content = f.read()\n",
    "    with open('minutes01.md', 'r', encoding='utf-8') as f:\n",
    "        minutes_content = f.read()\n",
    "\n",
    "    # 组装 prompt\n",
    "    prompt = f\"\"\"\n",
    "    You are a helpful assistant and expert Python developer with strong SQL knowledge.\n",
    "    Follow these steps:\n",
    "\n",
    "    ### Reference 1: Content from guide.md\n",
    "    {guide_content}\n",
    "\n",
    "    ### Reference 2: Content from minutes.md\n",
    "    {minutes_content}\n",
    "\n",
    "    ### User Request:\n",
    "    {user_input}\n",
    "\n",
    "    Please answer the user's request based on the information from both {guide_content} and {minutes_content}. If the answer is not directly available, use your expertise to provide the best possible response, clearly indicating any assumptions.\n",
    "    \"\"\"\n",
    "\n",
    "    # Make API call\n",
    "    response = client.chat.completions.create(\n",
    "        model=\"deepseek-chat\",\n",
    "        messages=[\n",
    "            {\"role\": \"system\", \"content\": \"You are a helpful assistant.\"},\n",
    "            {\"role\": \"user\", \"content\": prompt},\n",
    "        ],\n",
    "        max_tokens=100,\n",
    "        temperature=0.3,\n",
    "        stream=False\n",
    "    )\n",
    "\n",
    "    # Return generated response and prompt\n",
    "    return response.choices[0].message.content, prompt"
   ]
  },
  {
   "cell_type": "code",
   "execution_count": 13,
   "metadata": {},
   "outputs": [
    {
     "name": "stdout",
     "output_type": "stream",
     "text": [
      "\n",
      "Generated Text:\n",
      "\n"
     ]
    },
    {
     "data": {
      "text/markdown": [
       "- **教学场景**：AI生成教案题库与多模态课件，提升教学效率。  \n",
       "- **研究场景**：AI辅助文献综述、数据可视化与论文降重，加速科研产出。  \n",
       "- **案例分析**：美联储加息报告、比亚迪价格战教案等实战流程示范。  \n",
       "\n",
       "（注：严格遵循20字限制，概括自两文档的核心应用场景与案例。）"
      ],
      "text/plain": [
       "<IPython.core.display.Markdown object>"
      ]
     },
     "metadata": {},
     "output_type": "display_data"
    },
    {
     "name": "stdout",
     "output_type": "stream",
     "text": [
      "\n",
      "⏱️ Time elapsed: 11.09 seconds\n"
     ]
    }
   ],
   "source": [
    "import time\n",
    "\n",
    "user_input = f\"\"\"\n",
    "    请根据结合reference 内容，按照以下格式撰写\n",
    "    - 教学场景：\n",
    "    - 研究场景：\n",
    "    - 案例分析：\n",
    "\n",
    "    请高度概括每个部分一句话即可，不要超过20字。\n",
    "    \"\"\"\n",
    "\n",
    "start_time = time.time()\n",
    "\n",
    "try:\n",
    "    #out = query_deepseek(user_input)\n",
    "    out = query_deepseek(user_input)[0]\n",
    "    elapsed_time = time.time() - start_time\n",
    "\n",
    "    print(\"\\nGenerated Text:\\n\")\n",
    "    display(Markdown(out))\n",
    "\n",
    "    print(f\"\\n⏱️ Time elapsed: {elapsed_time:.2f} seconds\")\n",
    "\n",
    "    # Optional: Check if token usage is available (if DeepSeek supports it in future)\n",
    "    # print(f\"Tokens used: {response.usage.total_tokens}\")\n",
    "\n",
    "except Exception as e:\n",
    "    print(f\"Error querying DeepSeek: {e}\")"
   ]
  }
 ],
 "metadata": {
  "kernelspec": {
   "display_name": ".aibook_venv",
   "language": "python",
   "name": "python3"
  },
  "language_info": {
   "codemirror_mode": {
    "name": "ipython",
    "version": 3
   },
   "file_extension": ".py",
   "mimetype": "text/x-python",
   "name": "python",
   "nbconvert_exporter": "python",
   "pygments_lexer": "ipython3",
   "version": "3.9.6"
  }
 },
 "nbformat": 4,
 "nbformat_minor": 2
}
